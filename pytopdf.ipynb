{
 "cells": [
  {
   "cell_type": "code",
   "execution_count": 2,
   "metadata": {},
   "outputs": [
    {
     "name": "stdout",
     "output_type": "stream",
     "text": [
      "Module is already installed.\n"
     ]
    }
   ],
   "source": [
    "import os\n",
    "try:\n",
    "    import fpdf\n",
    "    print(\"Module is already installed.\")\n",
    "except ImportError:\n",
    "    %pip install fpdf "
   ]
  },
  {
   "cell_type": "code",
   "execution_count": 7,
   "metadata": {},
   "outputs": [
    {
     "name": "stdout",
     "output_type": "stream",
     "text": [
      "소스 코드가 ./source_code.pdf 파일로 저장되었습니다.\n"
     ]
    }
   ],
   "source": [
    "from fpdf import FPDF\n",
    "\n",
    "def save_source_code_to_pdf(directory, pdf_file_name):\n",
    "    # Create PDF object\n",
    "    pdf = FPDF()\n",
    "    pdf.set_auto_page_break(auto=True, margin=15)\n",
    "    pdf.add_page()\n",
    "\n",
    "    # Get list of files in directory\n",
    "    files = os.listdir(directory)\n",
    "    files.sort()  # Sort files for consistency\n",
    "\n",
    "    # First loop for .ui files\n",
    "    for file_name in files:\n",
    "        # Check if file has .ui extension\n",
    "        if file_name.endswith('.ui'):\n",
    "            # Add filename as subtitle\n",
    "            pdf.set_font(\"Arial\", style='B', size=12)\n",
    "            pdf.cell(200, 10, txt=file_name, ln=True, align='C')\n",
    "            pdf.set_font(\"Arial\", size=10)\n",
    "\n",
    "            # Read source code from file\n",
    "            with open(os.path.join(directory, file_name), 'r', encoding='utf-8') as file:\n",
    "                source_code = file.read()  .encode('utf-8').decode('iso-8859-1')\n",
    "\n",
    "            # Add source code content to PDF\n",
    "            pdf.multi_cell(0, 10, source_code)\n",
    "            pdf.ln()\n",
    "\n",
    "    # Second loop for .py files\n",
    "    for file_name in files:\n",
    "        # Check if file has .py extension\n",
    "        if file_name.endswith('.py'):\n",
    "            # Add filename as subtitle\n",
    "            pdf.set_font(\"Arial\", style='B', size=12)\n",
    "            pdf.cell(200, 10, txt=file_name, ln=True, align='C')\n",
    "            pdf.set_font(\"Arial\", size=10)\n",
    "\n",
    "            # Read source code from file\n",
    "            with open(os.path.join(directory, file_name), 'r', encoding='utf-8') as file:\n",
    "                source_code = file.read().encode('utf-8').decode('iso-8859-1')\n",
    "\n",
    "            # Add source code content to PDF\n",
    "            pdf.multi_cell(0, 10, source_code)\n",
    "            pdf.ln()\n",
    "\n",
    "\n",
    "   \n",
    "    pdf.output(pdf_file_name)\n",
    "\n",
    "    print(f\"소스 코드가 {pdf_file_name} 파일로 저장되었습니다.\")\n",
    "\n",
    "# 사용 예시\n",
    "# Save PDF\n",
    "pdf_file_name = './source_code.pdf'\n",
    "directory_path = '../output-service/'\n",
    "save_source_code_to_pdf(directory_path, pdf_file_name)\n"
   ]
  },
  {
   "cell_type": "code",
   "execution_count": null,
   "metadata": {},
   "outputs": [],
   "source": []
  }
 ],
 "metadata": {
  "kernelspec": {
   "display_name": "Python 3",
   "language": "python",
   "name": "python3"
  },
  "language_info": {
   "codemirror_mode": {
    "name": "ipython",
    "version": 3
   },
   "file_extension": ".py",
   "mimetype": "text/x-python",
   "name": "python",
   "nbconvert_exporter": "python",
   "pygments_lexer": "ipython3",
   "version": "3.10.13"
  }
 },
 "nbformat": 4,
 "nbformat_minor": 2
}
